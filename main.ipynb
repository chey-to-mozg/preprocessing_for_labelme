{
 "cells": [
  {
   "cell_type": "code",
   "execution_count": 1,
   "metadata": {
    "collapsed": true
   },
   "outputs": [
    {
     "name": "stderr",
     "output_type": "stream",
     "text": [
      "Using TensorFlow backend.\n"
     ]
    },
    {
     "name": "stdout",
     "output_type": "stream",
     "text": [
      "Segmentation Models: using `keras` framework.\n"
     ]
    }
   ],
   "source": [
    "import tensorflow\n",
    "from Net import Net\n",
    "import matplotlib.pyplot as plt\n",
    "import numpy as np\n",
    "import cv2\n",
    "import SimpleITK as sitk\n"
   ]
  },
  {
   "cell_type": "code",
   "execution_count": 2,
   "outputs": [],
   "source": [
    "net = Net('model/stable_10_07_20')\n"
   ],
   "metadata": {
    "collapsed": false,
    "pycharm": {
     "name": "#%%\n"
    }
   }
  },
  {
   "cell_type": "code",
   "execution_count": null,
   "outputs": [],
   "source": [
    "mask = net.find_objects('images/121.tif')\n",
    "contours = net.process_mask(mask)\n",
    "net.make_json(contours)"
   ],
   "metadata": {
    "collapsed": false,
    "pycharm": {
     "name": "#%%\n"
    }
   }
  },
  {
   "cell_type": "code",
   "execution_count": 3,
   "outputs": [],
   "source": [
    "net.process_file('images/121.tif')\n"
   ],
   "metadata": {
    "collapsed": false,
    "pycharm": {
     "name": "#%%\n"
    }
   }
  },
  {
   "cell_type": "code",
   "execution_count": 3,
   "outputs": [
    {
     "name": "stdout",
     "output_type": "stream",
     "text": [
      "file images//121.tif already processed\n",
      "file images//122.tif already processed\n"
     ]
    }
   ],
   "source": [
    "net.process_directory('images/')"
   ],
   "metadata": {
    "collapsed": false,
    "pycharm": {
     "name": "#%%\n"
    }
   }
  },
  {
   "cell_type": "code",
   "execution_count": null,
   "outputs": [],
   "source": [
    "import base64\n",
    "import json\n",
    "import os.path as osp\n",
    "import PIL.Image\n",
    "\n",
    "from labelme import __version__\n",
    "import io\n",
    "from labelme.logger import logger\n",
    "from labelme import PY2\n",
    "from labelme import QT4\n",
    "from labelme import utils\n",
    "\n",
    "def load_image_file(filename):\n",
    "    try:\n",
    "        image_pil = PIL.Image.open(filename)\n",
    "    except IOError:\n",
    "        logger.error('Failed opening image file: {}'.format(filename))\n",
    "        return\n",
    "\n",
    "    # apply orientation to image according to exif\n",
    "    image_pil = utils.apply_exif_orientation(image_pil)\n",
    "\n",
    "    with io.BytesIO() as f:\n",
    "        ext = osp.splitext(filename)[1].lower()\n",
    "        if PY2 and QT4:\n",
    "            format = 'PNG'\n",
    "        elif ext in ['.jpg', '.jpeg']:\n",
    "            format = 'JPEG'\n",
    "        else:\n",
    "            format = 'PNG'\n",
    "        image_pil.save(f, format=format)\n",
    "        f.seek(0)\n",
    "        return f.read()\n",
    "\n",
    "def load(filename):\n",
    "    keys = [\n",
    "        'version',\n",
    "        'imageData',\n",
    "        'imagePath',\n",
    "        'shapes',  # polygonal annotations\n",
    "        'flags',   # image level flags\n",
    "        'imageHeight',\n",
    "        'imageWidth',\n",
    "    ]\n",
    "    shape_keys = [\n",
    "        'label',\n",
    "        'points',\n",
    "        'group_id',\n",
    "        'shape_type',\n",
    "        'flags',\n",
    "    ]\n",
    "\n",
    "    with open(filename, 'r') as f:\n",
    "        data = json.load(f)\n",
    "    version = data.get('version')\n",
    "\n",
    "    if data['imageData'] is not None:\n",
    "        imageData = base64.b64decode(data['imageData'])\n",
    "    else:\n",
    "        # relative path from label file to relative path from cwd\n",
    "        imagePath = osp.join(osp.dirname(filename), data['imagePath'])\n",
    "        imageData = load_image_file(imagePath)\n",
    "    flags = data.get('flags') or {}\n",
    "    imagePath = data['imagePath']\n",
    "\n",
    "    shapes = [\n",
    "        dict(\n",
    "            label=s['label'],\n",
    "            points=s['points'],\n",
    "            shape_type=s.get('shape_type', 'polygon'),\n",
    "            flags=s.get('flags', {}),\n",
    "            group_id=s.get('group_id'),\n",
    "            other_data={\n",
    "                k: v for k, v in s.items() if k not in shape_keys\n",
    "            }\n",
    "        )\n",
    "        for s in data['shapes']\n",
    "    ]\n",
    "\n",
    "    otherData = {}\n",
    "    for key, value in data.items():\n",
    "        if key not in keys:\n",
    "            otherData[key] = value\n",
    "\n"
   ],
   "metadata": {
    "collapsed": false,
    "pycharm": {
     "name": "#%%\n"
    }
   }
  },
  {
   "cell_type": "code",
   "execution_count": null,
   "outputs": [],
   "source": [
    "tmp = load('images/121.json')"
   ],
   "metadata": {
    "collapsed": false,
    "pycharm": {
     "name": "#%%\n"
    }
   }
  },
  {
   "cell_type": "code",
   "execution_count": 11,
   "outputs": [],
   "source": [
    "def mathing(image, mask):\n",
    "    fixed_image_itk = sitk.GetImageFromArray(image)\n",
    "    moving_image = sitk.GetImageFromArray(mask)\n",
    "\n",
    "    initial_transform = sitk.CenteredTransformInitializer(fixed_image_itk,\n",
    "                                                          moving_image,\n",
    "                                                          sitk.Euler2DTransform(),\n",
    "                                                          sitk.CenteredTransformInitializerFilter.GEOMETRY)\n",
    "    registration_method = sitk.ImageRegistrationMethod()\n",
    "\n",
    "    # Similarity metric settings.\n",
    "    registration_method.SetMetricSamplingStrategy(registration_method.RANDOM)  # REGULAR\n",
    "    registration_method.SetMetricSamplingPercentage(0.01)\n",
    "    registration_method.SetMetricAsCorrelation()\n",
    "\n",
    "    registration_method.SetInterpolator(sitk.sitkLinear)\n",
    "\n",
    "    # Optimizer settings.\n",
    "    # registration_method.SetOptimizerAsRegularStepGradientDescent(learningRate=0.5, numberOfIterations=300, minStep=0.01)\n",
    "    #                                                       # convergenceMinimumValue=1e-9,\n",
    "    #                                                        #convergenceWindowSize=100)\n",
    "    registration_method.SetOptimizerAsGradientDescent(learningRate=0.0001, numberOfIterations=10000000,\n",
    "                                                           convergenceMinimumValue=1e-9,\n",
    "                                                           convergenceWindowSize=50)\n",
    "    registration_method.SetOptimizerScalesFromPhysicalShift()\n",
    "    # registration_method.SetOptimizerAsConjugateGradientLineSearch(learningRate=1, numberOfIterations=300, convergenceMinimumValue=1e-9, convergenceWindowSize=100)\n",
    "\n",
    "    # Setup for the multi-resolution framework.\n",
    "    registration_method.SetInitialTransform(initial_transform, inPlace=False)\n",
    "    final_transform = registration_method.Execute(sitk.Cast(fixed_image_itk , sitk.sitkFloat32),\n",
    "                                                  sitk.Cast(moving_image, sitk.sitkFloat32))\n",
    "\n",
    "    moving_resampled = sitk.Resample(moving_image, fixed_image_itk, final_transform, sitk.sitkLinear, 0.0,\n",
    "                                     moving_image.GetPixelID())\n",
    "    final_image = sitk.GetArrayViewFromImage(moving_resampled)\n",
    "\n",
    "    return np.asarray(final_image, 'uint8')\n"
   ],
   "metadata": {
    "collapsed": false,
    "pycharm": {
     "name": "#%%\n"
    }
   }
  },
  {
   "cell_type": "code",
   "execution_count": 12,
   "outputs": [],
   "source": [],
   "metadata": {
    "collapsed": false,
    "pycharm": {
     "name": "#%%\n"
    }
   }
  }
 ],
 "metadata": {
  "kernelspec": {
   "display_name": "Python 3",
   "language": "python",
   "name": "python3"
  },
  "language_info": {
   "codemirror_mode": {
    "name": "ipython",
    "version": 2
   },
   "file_extension": ".py",
   "mimetype": "text/x-python",
   "name": "python",
   "nbconvert_exporter": "python",
   "pygments_lexer": "ipython2",
   "version": "2.7.6"
  }
 },
 "nbformat": 4,
 "nbformat_minor": 0
}